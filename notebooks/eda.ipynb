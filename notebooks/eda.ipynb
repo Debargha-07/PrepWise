{
 "cells": [
  {
   "cell_type": "code",
   "execution_count": null,
   "id": "13ff9ea8",
   "metadata": {
    "vscode": {
     "languageId": "plaintext"
    }
   },
   "outputs": [],
   "source": [
    "\n",
    "import pandas as pd\n",
    "import seaborn as sns\n",
    "import matplotlib.pyplot as plt\n",
    "\n",
    "df = pd.read_csv(\"../data/student-mat.csv\")\n",
    "\n",
    "# Correlation heatmap\n",
    "plt.figure(figsize=(12,8))\n",
    "sns.heatmap(df.corr(), annot=True, cmap=\"coolwarm\")\n",
    "plt.title(\"Correlation Heatmap\")\n",
    "plt.show()\n",
    "\n",
    "# Relationship between absences and final score\n",
    "sns.scatterplot(data=df, x=\"absences\", y=\"G3\")\n",
    "plt.title(\"Absences vs Final Grade\")\n",
    "plt.show()\n",
    "\n",
    "# Boxplot by Internet access\n",
    "sns.boxplot(data=df, x=\"internet\", y=\"G3\")\n",
    "plt.title(\"Internet Access vs Final Grade\")\n",
    "plt.show()\n"
   ]
  }
 ],
 "metadata": {
  "language_info": {
   "name": "python"
  }
 },
 "nbformat": 4,
 "nbformat_minor": 5
}
